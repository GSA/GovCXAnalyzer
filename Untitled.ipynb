{
 "cells": [
  {
   "cell_type": "code",
   "execution_count": 1,
   "id": "074b38f6-d65f-46f7-bd6e-097355dab844",
   "metadata": {},
   "outputs": [],
   "source": [
    "import pandas as pd\n",
    "\n",
    "merged_ = pd.read_csv(\"https://raw.githubusercontent.com/GSA/HISP-CX-Data/main/mergedcxdata-2023-05-21.csv\")"
   ]
  },
  {
   "cell_type": "code",
   "execution_count": 12,
   "id": "b41209b0-86cb-4482-96d9-bd3a1509fe13",
   "metadata": {},
   "outputs": [
    {
     "data": {
      "text/plain": [
       "28"
      ]
     },
     "execution_count": 12,
     "metadata": {},
     "output_type": "execute_result"
    }
   ],
   "source": [
    "merged_[\"attributes_service_provider_name\"].nunique()"
   ]
  },
  {
   "cell_type": "code",
   "execution_count": 10,
   "id": "c959c19b-64ea-4166-a01b-47200255419f",
   "metadata": {},
   "outputs": [
    {
     "data": {
      "text/plain": [
       "DOC      85\n",
       "VA       74\n",
       "IRS      51\n",
       "DOL      40\n",
       "OPM      35\n",
       "DHS      34\n",
       "HHS      33\n",
       "USDA     23\n",
       "HUD      17\n",
       "DOS      16\n",
       "ED       16\n",
       "DOI      15\n",
       "GSA      12\n",
       "SSA      10\n",
       "USCIS     9\n",
       "SBA       9\n",
       "USAID     1\n",
       "FWS       1\n",
       "Name: attributes_organization_abbreviation, dtype: int64"
      ]
     },
     "execution_count": 10,
     "metadata": {},
     "output_type": "execute_result"
    }
   ],
   "source": [
    "#17 agencies\n",
    "29\n",
    "merged_[\"attributes_organization_abbreviation\"].value_counts()"
   ]
  },
  {
   "cell_type": "code",
   "execution_count": null,
   "id": "595f3427-9dcf-4c59-9230-40f4af1c5890",
   "metadata": {},
   "outputs": [],
   "source": []
  }
 ],
 "metadata": {
  "kernelspec": {
   "display_name": "Python 3 (ipykernel)",
   "language": "python",
   "name": "python3"
  },
  "language_info": {
   "codemirror_mode": {
    "name": "ipython",
    "version": 3
   },
   "file_extension": ".py",
   "mimetype": "text/x-python",
   "name": "python",
   "nbconvert_exporter": "python",
   "pygments_lexer": "ipython3",
   "version": "3.9.12"
  }
 },
 "nbformat": 4,
 "nbformat_minor": 5
}
