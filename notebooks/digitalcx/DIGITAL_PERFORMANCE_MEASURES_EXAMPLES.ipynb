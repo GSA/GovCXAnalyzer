{
 "cells": [
  {
   "cell_type": "code",
   "execution_count": 12,
   "id": "7a9304b2-2ec8-4d27-bd7a-22e2d98e7b4f",
   "metadata": {},
   "outputs": [],
   "source": [
    "import pandas as pd\n",
    "import re\n",
    "from collections import Counter\n",
    "from nltk.sentiment import SentimentIntensityAnalyzer\n",
    "from nltk import ne_chunk, pos_tag, word_tokenize\n",
    "from nltk.tree import Tree\n",
    "\n",
    "df_ = pd.read_excel(\"<customer_chats>.xlsx\")"
   ]
  },
  {
   "cell_type": "code",
   "execution_count": 15,
   "id": "816fc0fe-942a-4d7f-9231-fe887a568928",
   "metadata": {},
   "outputs": [
    {
     "name": "stdout",
     "output_type": "stream",
     "text": [
      "Help Request Rate: 0.4\n"
     ]
    }
   ],
   "source": [
    "def preprocess_text(text):\n",
    "    return re.sub(r'\\W', ' ', text.lower())\n",
    "    \n",
    "def calculate_help_request_rate(texts):\n",
    "    # Extend this list with more keywords/phrases that indicate a request for help\n",
    "    keywords = [\n",
    "        'please assist', 'having trouble', 'need help', 'support request',\n",
    "        'help needed', 'assistance required', 'can’t figure out', 'stuck with',\n",
    "        'issue with', 'problem with', 'trouble with', 'unable to', 'difficulty with',\n",
    "        'can you help', 'help me with', 'question about', 'inquiry about', 'struggling with',\n",
    "        'challenged by', 'facing an issue', 'how do i', 'how to', 'there’s a problem',\n",
    "        'it’s not working', 'doesn’t work', 'can’t access', 'need information on',\n",
    "        'seeking guidance', 'require assistance', 'technical support', 'customer support',\n",
    "        'service desk', 'help desk', 'not functioning', 'error with', 'failure with',\n",
    "        'malfunctioning', 'defective', 'not able to', 'how can i', 'assist me with',\n",
    "        'guidance on', 'advice on', 'help with', 'troubleshoot', 'fixing', 'resolving'\n",
    "    ]\n",
    "\n",
    "    # Count occurrences of help-related keywords/phrases\n",
    "    count = 0\n",
    "    for text in texts:\n",
    "        clean_text = preprocess_text(text)\n",
    "        if any(keyword in clean_text for keyword in keywords):\n",
    "            count += 1\n",
    "\n",
    "    return count / len(texts) if texts else 0\n",
    "\n",
    "# Example usage\n",
    "texts = [\n",
    "    \"I'm having trouble logging in, can you assist?\",\n",
    "    \"How do I reset my password?\",\n",
    "    \"Everything works great, thanks!\",\n",
    "    \"I need help with my account settings.\",\n",
    "    \"Who can I speak to about billing issues?\"\n",
    "]\n",
    "\n",
    "help_request_rate = calculate_help_request_rate(texts)\n",
    "print(f'Help Request Rate: {help_request_rate}')\n"
   ]
  },
  {
   "cell_type": "code",
   "execution_count": 23,
   "id": "ae35f64d-8fee-4b4e-bf0c-3b27878b76b7",
   "metadata": {},
   "outputs": [],
   "source": [
    "## more granular help request rates and categorizing help requests\n",
    "\n",
    "# Dictionary of keywords for identifying help requests \n",
    "example_keywords_forhelp = {\n",
    "# General Help Requests\n",
    "\"Direct Requests for Help\" : [\"need help\", \"assistance required\", \"can you help\", \"seeking help\", \"please assist\", \"support needed\", \"help needed\", \"requesting assistance\"],\n",
    "\"Questions Indicating Need for Help\": [ \"how can I\", \"what should I do\", \"can someone explain\", \"I don't understand\", \"I'm struggling with\", \"I'm not sure how to\", \"could you guide\"],\n",
    "\"Descriptive Terms of Difficulty\": [\"having trouble\", \"facing an issue\", \"problem with\", \"difficulties with\", \"challenge in\", \"stuck on\", \"trouble with\", \"can't figure out\"],\n",
    "## Technical Help Requests\n",
    "\"Technical Issues\": [ \"error\", \"issue\", \"bug\", \"problem\", \"technical support\", \"not working\", \"malfunction\", \"crash\", \"glitch\", \"troubleshoot\"],\n",
    "\"Software/Hardware Terms\": [\"software\", \"application\", \"app\", \"system\", \"device\", \"hardware\", \"tool\", \"program\"],\n",
    "\n",
    "}\n",
    "\n",
    "# Function to check for help request keywords in a list of messages\n",
    "def identify_help_requests(messages, keyword_dict):\n",
    "    flagged_messages = []\n",
    "    for message in messages:\n",
    "        for category in keyword_dict:\n",
    "            for keyword in keyword_dict[category]:\n",
    "                if re.search(r\"\\b\" + re.escape(keyword) + r\"\\b\", message, re.IGNORECASE):\n",
    "                    flagged_messages.append(message)\n",
    "                    break  # Break to avoid flagging the same message multiple times\n",
    "    return flagged_messages\n"
   ]
  },
  {
   "cell_type": "code",
   "execution_count": null,
   "id": "105407bb-401a-4229-a6b2-f6183981ae4f",
   "metadata": {},
   "outputs": [],
   "source": [
    "def calculate_normalized_utilization(resource_traffic, total_traffic):\n",
    "    \"\"\"\n",
    "    Calculate the normalized utilization rate for resources.\n",
    "\n",
    "    :param resource_traffic: Dictionary with resource names as keys and their traffic numbers as values.\n",
    "    :param total_traffic: Total traffic number for the same period.\n",
    "    :return: Dictionary with resource names as keys and their normalized utilization rates as values.\n",
    "    \"\"\"\n",
    "    if total_traffic == 0:\n",
    "        return {resource: 0 for resource in resource_traffic}  # Avoid division by zero\n",
    "\n",
    "    return {resource: (visits / total_traffic) for resource, visits in resource_traffic.items()}\n",
    "\n",
    "# Example usage\n",
    "total_traffic = 10000  # Total visits on the website\n",
    "resource_traffic = {\n",
    "    'veteran support services': 200,\n",
    "    'resource for ex-convicts': 150,\n",
    "    'job search tool': 300,\n",
    "    'career interest assessment': 200,\n",
    "}\n",
    "\n",
    "normalized_utilization = calculate_normalized_utilization(resource_traffic, total_traffic)\n",
    "print(normalized_utilization)\n"
   ]
  },
  {
   "cell_type": "code",
   "execution_count": 32,
   "id": "eae31105-ecd3-4cf7-b75f-923591b84b39",
   "metadata": {},
   "outputs": [
    {
     "data": {
      "text/plain": [
       "0.00650525424381231"
      ]
     },
     "execution_count": 32,
     "metadata": {},
     "output_type": "execute_result"
    }
   ],
   "source": [
    "texts = df_[\"TEXT\"].fillna(\" \").tolist()\n",
    "calculate_help_request_rate(texts) # 0.0065 help request rate for the chatbot messages"
   ]
  },
  {
   "cell_type": "code",
   "execution_count": 33,
   "id": "757ad7f9-43d7-41b0-8c1d-8eb66b5429a1",
   "metadata": {},
   "outputs": [],
   "source": [
    "\n",
    "## nltk version for service specific metrics\n",
    "def extract_services_and_sentiment(texts):\n",
    "    sia = SentimentIntensityAnalyzer()\n",
    "    services_sentiment = {}\n",
    "\n",
    "    for text in texts:\n",
    "        sentiment = sia.polarity_scores(text)\n",
    "        entities = extract_named_entities(text)\n",
    "        for entity in entities:\n",
    "            services_sentiment.setdefault(entity, []).append(sentiment)\n",
    "\n",
    "    return services_sentiment\n",
    "\n",
    "# generic Named Entity Recognition to identify services - not spacy\n",
    "def extract_named_entities(text):\n",
    "    chunked = ne_chunk(pos_tag(word_tokenize(text)))\n",
    "    return [chunk[0] for chunk in chunked if isinstance(chunk, Tree) and chunk.label() == 'NE']\n"
   ]
  },
  {
   "cell_type": "code",
   "execution_count": 43,
   "id": "234af572-0da5-43f6-9217-a513737e86c7",
   "metadata": {},
   "outputs": [
    {
     "name": "stdout",
     "output_type": "stream",
     "text": [
      "{'CareerOneStop': 0.6588, 'Job Search': 0.6696, 'Customer Support': 0.8803, 'Business Finder': -0.4767}\n"
     ]
    }
   ],
   "source": [
    "## spacy version for service specific metrics\n",
    "\n",
    "import spacy\n",
    "from collections import defaultdict\n",
    "from nltk.sentiment import SentimentIntensityAnalyzer\n",
    "\n",
    "# Load the spaCy model for NER\n",
    "nlp = spacy.load(\"en_core_web_md\")\n",
    "\n",
    "# Sentiment Analyzer\n",
    "sia = SentimentIntensityAnalyzer()\n",
    "\n",
    "\n",
    "## for keyword matching\n",
    "def get_match(text, rex):\n",
    "    if isinstance(rex, (list, tuple, set)):\n",
    "        rex = '(' + '|'.join(rex) + ')'\n",
    "    result = re.findall(rex, text)\n",
    "    return result\n",
    "\n",
    "\n",
    "def analyze_service_specific_metrics(feedback_texts, match_terms_services=[\"CareerOneStop\"]):\n",
    "    # Dictionary to hold sentiment scores for each service\n",
    "    service_sentiments = defaultdict(list)\n",
    "\n",
    "    for text in feedback_texts:\n",
    "        # Perform NER to identify services mentioned in the text\n",
    "        doc = nlp(text)\n",
    "        services = list(set([ent.text for ent in doc.ents if ent.label_ in ('ORG', 'PRODUCT', 'SERVICE')] + get_match(text, rex=match_terms_services)))\n",
    "        # Calculate sentiment score for the text\n",
    "        sentiment_score = sia.polarity_scores(text)['compound']\n",
    "\n",
    "        # Assign sentiment score to identified services\n",
    "        for service in services:\n",
    "            service_sentiments[service].append(sentiment_score)\n",
    "\n",
    "    # Calculate average sentiment for each service\n",
    "    average_sentiments = {service: sum(scores) / len(scores) for service, scores in service_sentiments.items() if scores}\n",
    "\n",
    "    return average_sentiments\n",
    "\n",
    "# Example usage\n",
    "feedback_texts = [\n",
    "    \"CareerOneStop is a great resource! \",\n",
    "    \"I love the new features in the Job Search tool, very user-friendly!\",\n",
    "    \"The career videos were not helpful at all, very disappointing.\",\n",
    "    \"Had a great experience with the Customer Support team, very helpful!\",\n",
    "    \"The payment gateway is always down, it's frustrating.\",\n",
    "    \"Business Finder is terrible. I can't find anything\",\n",
    "]\n",
    "\n",
    "service_metrics = analyze_service_specific_metrics(feedback_texts)\n",
    "print(service_metrics)\n"
   ]
  },
  {
   "cell_type": "code",
   "execution_count": null,
   "id": "f49a6550-3916-428b-ab6b-8aced6a3b6c1",
   "metadata": {},
   "outputs": [],
   "source": []
  }
 ],
 "metadata": {
  "kernelspec": {
   "display_name": "Python 3 (ipykernel)",
   "language": "python",
   "name": "python3"
  },
  "language_info": {
   "codemirror_mode": {
    "name": "ipython",
    "version": 3
   },
   "file_extension": ".py",
   "mimetype": "text/x-python",
   "name": "python",
   "nbconvert_exporter": "python",
   "pygments_lexer": "ipython3",
   "version": "3.9.17"
  }
 },
 "nbformat": 4,
 "nbformat_minor": 5
}
