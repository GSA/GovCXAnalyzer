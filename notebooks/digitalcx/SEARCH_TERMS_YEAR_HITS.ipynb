{
 "cells": [
  {
   "cell_type": "code",
   "execution_count": 5,
   "metadata": {},
   "outputs": [
    {
     "data": {
      "text/plain": [
       "['../CareerOneStop/DOLETA_Data_Extract_TFS4898\\\\Site_Search_Year_2015.xlsx',\n",
       " '../CareerOneStop/DOLETA_Data_Extract_TFS4898\\\\Site_Search_Year_2016.xlsx',\n",
       " '../CareerOneStop/DOLETA_Data_Extract_TFS4898\\\\Site_Search_Year_2017.xlsx',\n",
       " '../CareerOneStop/DOLETA_Data_Extract_TFS4898\\\\Site_Search_Year_2018.xlsx',\n",
       " '../CareerOneStop/DOLETA_Data_Extract_TFS4898\\\\Site_Search_Year_2019.xlsx',\n",
       " '../CareerOneStop/DOLETA_Data_Extract_TFS4898\\\\Site_Search_Year_2020.xlsx',\n",
       " '../CareerOneStop/DOLETA_Data_Extract_TFS4898\\\\Site_Search_Year_2021.xlsx',\n",
       " '../CareerOneStop/DOLETA_Data_Extract_TFS4898\\\\Site_Search_Year_2022.xlsx',\n",
       " '../CareerOneStop/DOLETA_Data_Extract_TFS4898\\\\Site_Search_Year_2023.xlsx']"
      ]
     },
     "execution_count": 5,
     "metadata": {},
     "output_type": "execute_result"
    }
   ],
   "source": [
    "import pandas as pd\n",
    "import glob\n",
    "\n",
    "glob.glob(\"../CareerOneStop/DOLETA_Data_Extract_TFS4898/Site_*xlsx\")"
   ]
  },
  {
   "cell_type": "code",
   "execution_count": 8,
   "metadata": {},
   "outputs": [],
   "source": [
    "sitesearch2023 = pd.read_excel('../CareerOneStop/DOLETA_Data_Extract_TFS4898\\\\Site_Search_Year_2023.xlsx')"
   ]
  },
  {
   "cell_type": "code",
   "execution_count": 10,
   "metadata": {},
   "outputs": [],
   "source": [
    "sitesearch2022 = pd.read_excel('../CareerOneStop/DOLETA_Data_Extract_TFS4898\\\\Site_Search_Year_2022.xlsx')"
   ]
  },
  {
   "cell_type": "code",
   "execution_count": 9,
   "metadata": {},
   "outputs": [],
   "source": [
    "sitesearch2021 = pd.read_excel('../CareerOneStop/DOLETA_Data_Extract_TFS4898\\\\Site_Search_Year_2021.xlsx')"
   ]
  },
  {
   "cell_type": "code",
   "execution_count": 11,
   "metadata": {},
   "outputs": [],
   "source": [
    "sitesearch2020 = pd.read_excel('../CareerOneStop/DOLETA_Data_Extract_TFS4898\\\\Site_Search_Year_2020.xlsx')"
   ]
  },
  {
   "cell_type": "code",
   "execution_count": 12,
   "metadata": {},
   "outputs": [],
   "source": [
    "sitesearch2015 = pd.read_excel('../CareerOneStop/DOLETA_Data_Extract_TFS4898\\\\Site_Search_Year_2015.xlsx')\n",
    "sitesearch2016 = pd.read_excel('../CareerOneStop/DOLETA_Data_Extract_TFS4898\\\\Site_Search_Year_2016.xlsx')\n",
    "sitesearch2017 = pd.read_excel( '../CareerOneStop/DOLETA_Data_Extract_TFS4898\\\\Site_Search_Year_2017.xlsx')\n",
    "sitesearch2018 = pd.read_excel('../CareerOneStop/DOLETA_Data_Extract_TFS4898\\\\Site_Search_Year_2018.xlsx')\n",
    "sitesearch2019 = pd.read_excel('../CareerOneStop/DOLETA_Data_Extract_TFS4898\\\\Site_Search_Year_2019.xlsx')"
   ]
  },
  {
   "cell_type": "code",
   "execution_count": 14,
   "metadata": {},
   "outputs": [],
   "source": [
    "_urls = {\n",
    "    \"ExploreCareers\": [\"https://www.careeronestop.org/ExploreCareers/explore-careers.aspx\", \"https://www.careeronestop.org/Videos/CareerVideos/career-videos.aspx\", \"https://www.careeronestop.org/Toolkit/Wages/highest-paying-careers.aspx\"],\n",
    "    \"FindTraining\": [\"https://www.careeronestop.org/FindTraining/find-training.aspx\", \"https://www.careeronestop.org/Toolkit/Training/find-local-training.aspx\", \"https://www.careeronestop.org/FindTraining/Types/certifications.aspx\"],\n",
    "    \"JobSearch\": [\"https://www.careeronestop.org/JobSearch/job-search.aspx\", \"https://www.careeronestop.org/JobSearch/Resumes/ResumeGuide/introduction.aspx\",\"https://www.careeronestop.org/JobSearch/Interview/interview-and-negotiate.aspx\", \"https://www.careeronestop.org/JobSearch/FindJobs/find-jobs.aspx\" ],\n",
    "    \"LocalHelp\": [\"https://www.careeronestop.org/LocalHelp/local-help.aspx\", \"https://www.careeronestop.org/LocalHelp/AmericanJobCenters/american-job-centers.aspx\",\"https://www.careeronestop.org/LocalHelp/UnemploymentBenefits/unemployment-benefits.aspx\",\"https://www.careeronestop.org/LocalHelp/EmploymentAndTraining/employment-and-training.aspx\"]\n",
    "}\n",
    "\n",
    "\n",
    "identify_urls = {\n",
    "   \"CareerChanger\": \"https://www.careeronestop.org/ResourcesFor/CareerChanger/career-changer.aspx\",\n",
    "   \"MilitaryAndVeterans\" : \"https://www.careeronestop.org/ResourcesFor/Veteran/veteran.aspx\",\n",
    "   \"WorkerCriminalConviction\": \"https://www.careeronestop.org/ResourcesFor/WorkerCriminalConviction/worker-with-a-criminal-conviction.aspx\",\n",
    "   # https://www.careeronestop.org/ExOffender/default.aspx\n",
    "\n",
    "   \"EntryLevel\": \"https://www.careeronestop.org/ResourcesFor/EntryLevel/entry-level.aspx\",\n",
    "    \"55+Workers\": \"https://www.careeronestop.org/ResourcesFor/55PlusWorkers/55-plus-workers.aspx\",\n",
    "   \"YoungAdult\": \"https://www.careeronestop.org/ResourcesFor/YoungAdult/young-adult.aspx\",\n",
    "   \"WorkersWithDisabilities\": \"https://www.careeronestop.org/ResourcesFor/WorkersWithDisabilities/workers-with-disabilities.aspx\",\n",
    "    \"ParaHispanohablantes\":\"https://www.careeronestop.org/ResourcesFor/ParaHispanohablantes/para-hispanohablantes.aspx\",\n",
    "    \"Business\": \"https://www.careeronestop.org/ResourcesFor/Business/business.aspx\",\n",
    "    \"CareerAdvisor\": \"https://www.careeronestop.org/ResourcesFor/CareerAdvisor/career-advisor.aspx\"\n",
    "   \n",
    "}\n"
   ]
  },
  {
   "cell_type": "code",
   "execution_count": 15,
   "metadata": {},
   "outputs": [
    {
     "data": {
      "text/html": [
       "<div>\n",
       "<style scoped>\n",
       "    .dataframe tbody tr th:only-of-type {\n",
       "        vertical-align: middle;\n",
       "    }\n",
       "\n",
       "    .dataframe tbody tr th {\n",
       "        vertical-align: top;\n",
       "    }\n",
       "\n",
       "    .dataframe thead th {\n",
       "        text-align: right;\n",
       "    }\n",
       "</style>\n",
       "<table border=\"1\" class=\"dataframe\">\n",
       "  <thead>\n",
       "    <tr style=\"text-align: right;\">\n",
       "      <th></th>\n",
       "      <th>SEARCH_ID</th>\n",
       "      <th>SEARCH_STRING</th>\n",
       "      <th>URL</th>\n",
       "      <th>SEARCH_DATE</th>\n",
       "      <th>TOTAL</th>\n",
       "      <th>OCCUPATIONCARD_YN</th>\n",
       "      <th>REF_URL</th>\n",
       "    </tr>\n",
       "  </thead>\n",
       "  <tbody>\n",
       "    <tr>\n",
       "      <th>0</th>\n",
       "      <td>18659796</td>\n",
       "      <td>FLAGGERS</td>\n",
       "      <td>/ExOffender/site-search.aspx?keyword=Flaggers</td>\n",
       "      <td>2023-01-01 00:17:08</td>\n",
       "      <td>1</td>\n",
       "      <td>Y</td>\n",
       "      <td>NaN</td>\n",
       "    </tr>\n",
       "    <tr>\n",
       "      <th>1</th>\n",
       "      <td>18659797</td>\n",
       "      <td>INDUSTRIAL ENGINEER</td>\n",
       "      <td>/site-search.aspx?keyword=industrial%20engineer</td>\n",
       "      <td>2023-01-01 00:17:45</td>\n",
       "      <td>1</td>\n",
       "      <td>Y</td>\n",
       "      <td>https://www.careeronestop.org/toolkit/careers/...</td>\n",
       "    </tr>\n",
       "    <tr>\n",
       "      <th>2</th>\n",
       "      <td>18659798</td>\n",
       "      <td>ENGLISH</td>\n",
       "      <td>/site-search.aspx?keyword=english</td>\n",
       "      <td>2023-01-01 00:42:38</td>\n",
       "      <td>1</td>\n",
       "      <td>Y</td>\n",
       "      <td>NaN</td>\n",
       "    </tr>\n",
       "    <tr>\n",
       "      <th>3</th>\n",
       "      <td>18659799</td>\n",
       "      <td>INDUSTRIAL-ORGANIZATIONAL PSYCHOLOGISTS</td>\n",
       "      <td>/site-search.aspx?keyword=Industrial-Organizat...</td>\n",
       "      <td>2023-01-01 00:56:21</td>\n",
       "      <td>1</td>\n",
       "      <td>Y</td>\n",
       "      <td>NaN</td>\n",
       "    </tr>\n",
       "    <tr>\n",
       "      <th>4</th>\n",
       "      <td>18659800</td>\n",
       "      <td>SCHOLARSHIPS</td>\n",
       "      <td>/site-search.aspx?keyword=Scholarships</td>\n",
       "      <td>2023-01-01 00:57:24</td>\n",
       "      <td>1</td>\n",
       "      <td>N</td>\n",
       "      <td>https://profile.careeronestop.org/</td>\n",
       "    </tr>\n",
       "  </tbody>\n",
       "</table>\n",
       "</div>"
      ],
      "text/plain": [
       "   SEARCH_ID                            SEARCH_STRING  \\\n",
       "0   18659796                                 FLAGGERS   \n",
       "1   18659797                      INDUSTRIAL ENGINEER   \n",
       "2   18659798                                  ENGLISH   \n",
       "3   18659799  INDUSTRIAL-ORGANIZATIONAL PSYCHOLOGISTS   \n",
       "4   18659800                             SCHOLARSHIPS   \n",
       "\n",
       "                                                 URL         SEARCH_DATE  \\\n",
       "0      /ExOffender/site-search.aspx?keyword=Flaggers 2023-01-01 00:17:08   \n",
       "1    /site-search.aspx?keyword=industrial%20engineer 2023-01-01 00:17:45   \n",
       "2                  /site-search.aspx?keyword=english 2023-01-01 00:42:38   \n",
       "3  /site-search.aspx?keyword=Industrial-Organizat... 2023-01-01 00:56:21   \n",
       "4             /site-search.aspx?keyword=Scholarships 2023-01-01 00:57:24   \n",
       "\n",
       "   TOTAL OCCUPATIONCARD_YN                                            REF_URL  \n",
       "0      1                 Y                                                NaN  \n",
       "1      1                 Y  https://www.careeronestop.org/toolkit/careers/...  \n",
       "2      1                 Y                                                NaN  \n",
       "3      1                 Y                                                NaN  \n",
       "4      1                 N                 https://profile.careeronestop.org/  "
      ]
     },
     "execution_count": 15,
     "metadata": {},
     "output_type": "execute_result"
    }
   ],
   "source": [
    "sitesearch2023.head()"
   ]
  },
  {
   "cell_type": "code",
   "execution_count": 24,
   "metadata": {},
   "outputs": [
    {
     "name": "stdout",
     "output_type": "stream",
     "text": [
      "\n",
      "2023\n",
      "LAWYER                        10742\n",
      "TEACHER                        8936\n",
      "NURSE                          7632\n",
      "DOCTOR                         6444\n",
      "ACTOR                          5474\n",
      "CHEF                           5374\n",
      "DATA ANALYST                   4803\n",
      "VET                            4728\n",
      "ARCHITECT                      4369\n",
      "HUMAN RESOURCES SPECIALIST     4279\n",
      "Name: SEARCH_STRING, dtype: int64\n",
      "\n",
      "2022\n",
      "LAWYER                        10839\n",
      "TEACHER                        9402\n",
      "HUMAN RESOURCES SPECIALIST     8455\n",
      "NURSE                          7100\n",
      "DATA ANALYST                   7072\n",
      "DOCTOR                         6906\n",
      "ACTOR                          5645\n",
      "VET                            5548\n",
      "CHEF                           5488\n",
      "ENGINEER                       4194\n",
      "Name: SEARCH_STRING, dtype: int64\n",
      "\n",
      "2021\n",
      "LAWYER          9189\n",
      "TEACHER         9073\n",
      "DOCTOR          6925\n",
      "NURSE           6458\n",
      "VET             5889\n",
      "CHEF            5482\n",
      "ACTOR           4680\n",
      "VETERINARIAN    4012\n",
      "ARCHITECT       3986\n",
      "SCHOLARSHIPS    3894\n",
      "Name: SEARCH_STRING, dtype: int64\n",
      "\n",
      "2020\n",
      "TEACHER             8483\n",
      "LAWYER              8383\n",
      "NURSE               7560\n",
      "UNEMPLOYMENT        7455\n",
      "DOCTOR              6610\n",
      "VET                 5243\n",
      "SCHOLARSHIPS        5136\n",
      "CHEF                4993\n",
      "REGISTERED NURSE    4756\n",
      "SURGEON             4379\n",
      "Name: SEARCH_STRING, dtype: int64\n",
      "\n",
      "2019\n",
      "TEACHER         12639\n",
      "LAWYER          10876\n",
      "DOCTOR           9431\n",
      "NURSE            8889\n",
      "VET              8229\n",
      "CHEF             6555\n",
      "VETERINARIAN     5711\n",
      "ACTOR            5406\n",
      "POLICE           5396\n",
      "SURGEON          5374\n",
      "Name: SEARCH_STRING, dtype: int64\n",
      "\n",
      "2018\n",
      "TEACHER         12192\n",
      "LAWYER          11892\n",
      "DOCTOR          10265\n",
      "NURSE            8985\n",
      "VET              8304\n",
      "CHEF             6778\n",
      "VETERINARIAN     6426\n",
      "SURGEON          6422\n",
      "ACTOR            6082\n",
      "MILITARY         5173\n",
      "Name: SEARCH_STRING, dtype: int64\n",
      "\n",
      "2017\n",
      "PUBLIC RELATIONS    140637\n",
      "CASINO JOBS          61196\n",
      "BOILER OPERATOR      16462\n",
      "LAWYER                8082\n",
      "TEACHER               6937\n",
      "NURSE                 5928\n",
      "DOCTOR                5398\n",
      "ENVIRONMENTAL         4500\n",
      "BROADCAST             4253\n",
      "VETERINARIAN          4220\n",
      "Name: SEARCH_STRING, dtype: int64\n",
      "\n",
      "2016\n",
      "ENVIRONMENTAL                  32247\n",
      "BUSINESS                       31062\n",
      "PUBLIC RELATIONS               15081\n",
      "CASINO JOBS                    12965\n",
      "LAWYER                          5442\n",
      "TEACHER                         5360\n",
      "HUMAN RESOURCES SPECIALISTS     4418\n",
      "NURSE                           4113\n",
      "MENTAL HEALTH                   3567\n",
      "FIRE PREVENTION SERVICES        3452\n",
      "Name: SEARCH_STRING, dtype: int64\n",
      "\n",
      "2015\n",
      "REGISTERED NURSES                      18322\n",
      "TEACHER                                10461\n",
      "NURSE                                   9467\n",
      "MEDICAL ASSISTANTS                      8924\n",
      "FAMILY SERVICES                         8731\n",
      "TEACHERS AND INSTRUCTORS, ALL OTHER     7110\n",
      "PHYSICAL THERAPISTS                     6723\n",
      "SOCIAL WORKERS, ALL OTHER               6714\n",
      "PROFESSIONAL LICENSE                    6518\n",
      "PSYCHOLOGISTS, ALL OTHER                6117\n",
      "Name: SEARCH_STRING, dtype: int64\n"
     ]
    }
   ],
   "source": [
    "list_dfs = [sitesearch2023, sitesearch2022, sitesearch2021, sitesearch2020, sitesearch2019, sitesearch2018, sitesearch2017, sitesearch2016, sitesearch2015]\n",
    "\n",
    "\n",
    "for df in list_dfs:\n",
    "    print()\n",
    "    print(df['SEARCH_DATE'].min().year)\n",
    "    print(df[\"SEARCH_STRING\"].value_counts().head(10))\n",
    "    \n",
    "    "
   ]
  },
  {
   "cell_type": "code",
   "execution_count": 23,
   "metadata": {},
   "outputs": [
    {
     "data": {
      "text/plain": [
       "2021"
      ]
     },
     "execution_count": 23,
     "metadata": {},
     "output_type": "execute_result"
    }
   ],
   "source": [
    "sitesearch2021['SEARCH_DATE'].min().year"
   ]
  },
  {
   "cell_type": "code",
   "execution_count": 25,
   "metadata": {},
   "outputs": [],
   "source": [
    "bigdf = pd.concat(list_dfs)"
   ]
  },
  {
   "cell_type": "code",
   "execution_count": 27,
   "metadata": {},
   "outputs": [
    {
     "data": {
      "text/plain": [
       "PUBLIC RELATIONS    160728\n",
       "TEACHER              83483\n",
       "LAWYER               81191\n",
       "CASINO JOBS          74546\n",
       "NURSE                66132\n",
       "DOCTOR               59873\n",
       "VET                  47896\n",
       "BUSINESS             43470\n",
       "CHEF                 43286\n",
       "VETERINARIAN         38260\n",
       "Name: SEARCH_STRING, dtype: int64"
      ]
     },
     "execution_count": 27,
     "metadata": {},
     "output_type": "execute_result"
    }
   ],
   "source": [
    "bigdf[\"SEARCH_STRING\"].value_counts().head(10)"
   ]
  },
  {
   "cell_type": "code",
   "execution_count": 29,
   "metadata": {},
   "outputs": [],
   "source": [
    "bigdf.to_csv(\"./SEARCH_QUERIES.csv\", index=False)"
   ]
  },
  {
   "cell_type": "code",
   "execution_count": 30,
   "metadata": {},
   "outputs": [
    {
     "data": {
      "text/plain": [
       "9082177"
      ]
     },
     "execution_count": 30,
     "metadata": {},
     "output_type": "execute_result"
    }
   ],
   "source": [
    "bigdf.shape[0]"
   ]
  },
  {
   "cell_type": "code",
   "execution_count": 31,
   "metadata": {},
   "outputs": [
    {
     "name": "stdout",
     "output_type": "stream",
     "text": [
      "9082121\n"
     ]
    }
   ],
   "source": [
    "notnabigdf = bigdf[bigdf[\"SEARCH_STRING\"].notna()]\n",
    "print(notnabigdf.shape[0])"
   ]
  },
  {
   "cell_type": "code",
   "execution_count": 33,
   "metadata": {},
   "outputs": [
    {
     "data": {
      "text/plain": [
       "Timestamp('2023-05-12 15:27:31')"
      ]
     },
     "execution_count": 33,
     "metadata": {},
     "output_type": "execute_result"
    }
   ],
   "source": [
    "notnabigdf[\"SEARCH_DATE\"].max()"
   ]
  },
  {
   "cell_type": "code",
   "execution_count": 37,
   "metadata": {},
   "outputs": [
    {
     "name": "stderr",
     "output_type": "stream",
     "text": [
      "D:\\Users\\isabelmetzger\\AppData\\Local\\Temp\\1\\ipykernel_11108\\2373426376.py:1: SettingWithCopyWarning: \n",
      "A value is trying to be set on a copy of a slice from a DataFrame.\n",
      "Try using .loc[row_indexer,col_indexer] = value instead\n",
      "\n",
      "See the caveats in the documentation: https://pandas.pydata.org/pandas-docs/stable/user_guide/indexing.html#returning-a-view-versus-a-copy\n",
      "  notnabigdf[\"URL_STR\"] = notnabigdf[\"URL\"].map(lambda x: str(x).split(\"?\")[0])\n"
     ]
    }
   ],
   "source": [
    "notnabigdf[\"URL_STR\"] = notnabigdf[\"URL\"].map(lambda x: str(x).split(\"?\")[0])"
   ]
  },
  {
   "cell_type": "code",
   "execution_count": 47,
   "metadata": {},
   "outputs": [
    {
     "data": {
      "text/plain": [
       "UNEMPLOYMENT                   9\n",
       "WORK FROM HOME                 8\n",
       "REMOTE JOBS                    8\n",
       "SCSEP                          8\n",
       "SCHOLARSHIPS                   8\n",
       "REGISTER                       7\n",
       "RESUME                         6\n",
       "OLDER WORKER PROGRAM FINDER    6\n",
       "SCHOLARSHIP                    5\n",
       "INDINAN | INDIAN               5\n",
       "INTERIOR DESIGN                5\n",
       "INTEREST ASSESSMENT            5\n",
       "TEACHER                        5\n",
       "ASSESSMENT                     4\n",
       "POOR WORK HISTORY              4\n",
       "TOW TRUCK                      4\n",
       "TRUCK DRIVER                   4\n",
       "JOBS                           4\n",
       "REMOTE                         4\n",
       "NURSE                          4\n",
       "GRAPHIC DESIGNER               3\n",
       "REGISTER FOR WORK              3\n",
       "POST A JOB                     3\n",
       "FBI                            3\n",
       "VIDEOS                         3\n",
       "WORKSHOPS                      3\n",
       "WELDER                         3\n",
       "KANSAS                         3\n",
       "CAREER SKILLS                  3\n",
       "CUSTOMER SERVICE               3\n",
       "ATTORNEY                       3\n",
       "ART                            3\n",
       "CDL                            3\n",
       "LOGIN                          3\n",
       "VET                            3\n",
       "ACTOR                          3\n",
       "REMOTE WORK                    2\n",
       "FOOD                           2\n",
       "DRIVERS                        2\n",
       "LANDSCAPE DESIGN               2\n",
       "TSA JOBS                       2\n",
       "SIGN IN                        2\n",
       "CLERK                          2\n",
       "GRANTS                         2\n",
       "CHEF                           2\n",
       "SELF ASSESSMENT                2\n",
       "VETERINARIO | VETERINARY       2\n",
       "ELECTRICIAN                    2\n",
       "UNEMPLOYMENT INSURANCE         2\n",
       "WELDING                        2\n",
       "Name: SEARCH_STRING, dtype: int64"
      ]
     },
     "execution_count": 47,
     "metadata": {},
     "output_type": "execute_result"
    }
   ],
   "source": [
    "# exoffender \n",
    "\n",
    "notnabigdf[notnabigdf[\"REF_URL\"].map(lambda x: True if '55plus' in str(x).lower().replace(\"-\", '') else False)][\"SEARCH_STRING\"].value_counts().head(50) #899 #605\n"
   ]
  },
  {
   "cell_type": "code",
   "execution_count": 39,
   "metadata": {},
   "outputs": [
    {
     "data": {
      "text/plain": [
       "{'CareerChanger': 'https://www.careeronestop.org/ResourcesFor/CareerChanger/career-changer.aspx',\n",
       " 'MilitaryAndVeterans': 'https://www.careeronestop.org/ResourcesFor/Veteran/veteran.aspx',\n",
       " 'WorkerCriminalConviction': 'https://www.careeronestop.org/ResourcesFor/WorkerCriminalConviction/worker-with-a-criminal-conviction.aspx',\n",
       " 'EntryLevel': 'https://www.careeronestop.org/ResourcesFor/EntryLevel/entry-level.aspx',\n",
       " '55+Workers': 'https://www.careeronestop.org/ResourcesFor/55PlusWorkers/55-plus-workers.aspx',\n",
       " 'YoungAdult': 'https://www.careeronestop.org/ResourcesFor/YoungAdult/young-adult.aspx',\n",
       " 'WorkersWithDisabilities': 'https://www.careeronestop.org/ResourcesFor/WorkersWithDisabilities/workers-with-disabilities.aspx',\n",
       " 'ParaHispanohablantes': 'https://www.careeronestop.org/ResourcesFor/ParaHispanohablantes/para-hispanohablantes.aspx',\n",
       " 'Business': 'https://www.careeronestop.org/ResourcesFor/Business/business.aspx',\n",
       " 'CareerAdvisor': 'https://www.careeronestop.org/ResourcesFor/CareerAdvisor/career-advisor.aspx'}"
      ]
     },
     "execution_count": 39,
     "metadata": {},
     "output_type": "execute_result"
    }
   ],
   "source": [
    "identify_urls"
   ]
  },
  {
   "cell_type": "code",
   "execution_count": 60,
   "metadata": {},
   "outputs": [
    {
     "data": {
      "text/plain": [
       "UNEMPLOYMENT              30\n",
       "WORK FROM HOME            18\n",
       "SCHOLARSHIPS              17\n",
       "RESUME                    14\n",
       "SCHOLARSHIP               14\n",
       "DISABILITY                14\n",
       "TRANSLATION               13\n",
       "BUS DRIVER                13\n",
       "VIDEOS                    13\n",
       "TICKET TO WORK            12\n",
       "NURSE                     11\n",
       "TEACHER                    8\n",
       "PATROL OFFICERS            8\n",
       "THERAPIST                  8\n",
       "INFORMATION TECHNOLOGY     7\n",
       "GRANTS                     7\n",
       "WIOA                       7\n",
       "HOUSING                    6\n",
       "MEDICAL ASSISTANT          6\n",
       "AUTISM                     6\n",
       "Name: SEARCH_STRING, dtype: int64"
      ]
     },
     "execution_count": 60,
     "metadata": {},
     "output_type": "execute_result"
    }
   ],
   "source": [
    "\n",
    "\n",
    "notnabigdf[notnabigdf[\"REF_URL\"].map(lambda x: True if ( 'workerswithdisabilities' in str(x).lower().replace(\"-\", '') #or 'criminal' in str(x).lower()\n",
    ") else False)][\"SEARCH_STRING\"].value_counts().head(20) #899 #605\n"
   ]
  },
  {
   "cell_type": "code",
   "execution_count": null,
   "metadata": {},
   "outputs": [],
   "source": []
  },
  {
   "cell_type": "code",
   "execution_count": null,
   "metadata": {},
   "outputs": [],
   "source": []
  },
  {
   "cell_type": "code",
   "execution_count": 58,
   "metadata": {},
   "outputs": [
    {
     "data": {
      "text/plain": [
       "RESUME                 50\n",
       "SCHOLARSHIPS           17\n",
       "SCHOLARSHIP            16\n",
       "CAREER ADVISOR         15\n",
       "TEACHER                14\n",
       "COUNSELOR              14\n",
       "DOCTOR                 14\n",
       "LAWYER                 12\n",
       "NURSING                11\n",
       "NURSE                  11\n",
       "CAREER VIDEOS          10\n",
       "DOCTORS                10\n",
       "GRANTS                 10\n",
       "COVER LETTER           10\n",
       "INTEREST ASSESSMENT     9\n",
       "CHEF                    9\n",
       "CDL                     9\n",
       "PSYCHOLOGIST            9\n",
       "PHYSICAL THERAPIST      9\n",
       "CAREER COUNSELOR        8\n",
       "Name: SEARCH_STRING, dtype: int64"
      ]
     },
     "execution_count": 58,
     "metadata": {},
     "output_type": "execute_result"
    }
   ],
   "source": [
    "\n",
    "\n",
    "notnabigdf[notnabigdf[\"REF_URL\"].map(lambda x: True if ( 'careeradvisor' in str(x).lower().replace(\"-\", '') #or 'criminal' in str(x).lower()\n",
    ") else False)][\"SEARCH_STRING\"].value_counts().head(20) #899 #605\n"
   ]
  },
  {
   "cell_type": "code",
   "execution_count": 61,
   "metadata": {},
   "outputs": [
    {
     "data": {
      "text/plain": [
       "{'ExploreCareers': ['https://www.careeronestop.org/ExploreCareers/explore-careers.aspx',\n",
       "  'https://www.careeronestop.org/Videos/CareerVideos/career-videos.aspx',\n",
       "  'https://www.careeronestop.org/Toolkit/Wages/highest-paying-careers.aspx'],\n",
       " 'FindTraining': ['https://www.careeronestop.org/FindTraining/find-training.aspx',\n",
       "  'https://www.careeronestop.org/Toolkit/Training/find-local-training.aspx',\n",
       "  'https://www.careeronestop.org/FindTraining/Types/certifications.aspx'],\n",
       " 'JobSearch': ['https://www.careeronestop.org/JobSearch/job-search.aspx',\n",
       "  'https://www.careeronestop.org/JobSearch/Resumes/ResumeGuide/introduction.aspx',\n",
       "  'https://www.careeronestop.org/JobSearch/Interview/interview-and-negotiate.aspx',\n",
       "  'https://www.careeronestop.org/JobSearch/FindJobs/find-jobs.aspx'],\n",
       " 'LocalHelp': ['https://www.careeronestop.org/LocalHelp/local-help.aspx',\n",
       "  'https://www.careeronestop.org/LocalHelp/AmericanJobCenters/american-job-centers.aspx',\n",
       "  'https://www.careeronestop.org/LocalHelp/UnemploymentBenefits/unemployment-benefits.aspx',\n",
       "  'https://www.careeronestop.org/LocalHelp/EmploymentAndTraining/employment-and-training.aspx']}"
      ]
     },
     "execution_count": 61,
     "metadata": {},
     "output_type": "execute_result"
    }
   ],
   "source": [
    "_urls"
   ]
  },
  {
   "cell_type": "code",
   "execution_count": 2,
   "metadata": {},
   "outputs": [
    {
     "name": "stderr",
     "output_type": "stream",
     "text": [
      "D:\\Users\\isabelmetzger\\AppData\\Local\\Temp\\1\\ipykernel_9368\\875685129.py:3: DtypeWarning: Columns (6) have mixed types. Specify dtype option on import or set low_memory=False.\n",
      "  bigdf = pd.read_csv(\"SEARCH_QUERIES.csv\")\n"
     ]
    }
   ],
   "source": [
    "import pandas as pd\n",
    "\n",
    "bigdf = pd.read_csv(\"SEARCH_QUERIES.csv\")"
   ]
  },
  {
   "cell_type": "code",
   "execution_count": 9,
   "metadata": {},
   "outputs": [],
   "source": [
    "bigdf[\"SEARCH_STRING\"].value_counts().to_frame().to_excel(\"all-total-counts-search-queries.xlsx\")"
   ]
  },
  {
   "cell_type": "code",
   "execution_count": null,
   "metadata": {},
   "outputs": [],
   "source": [
    "print(bigdf[\"SEARCH_STRING\"].value_counts().head(20))\n"
   ]
  }
 ],
 "metadata": {
  "kernelspec": {
   "display_name": "py39",
   "language": "python",
   "name": "python3"
  },
  "language_info": {
   "codemirror_mode": {
    "name": "ipython",
    "version": 3
   },
   "file_extension": ".py",
   "mimetype": "text/x-python",
   "name": "python",
   "nbconvert_exporter": "python",
   "pygments_lexer": "ipython3",
   "version": "3.9.13"
  },
  "orig_nbformat": 4
 },
 "nbformat": 4,
 "nbformat_minor": 2
}
