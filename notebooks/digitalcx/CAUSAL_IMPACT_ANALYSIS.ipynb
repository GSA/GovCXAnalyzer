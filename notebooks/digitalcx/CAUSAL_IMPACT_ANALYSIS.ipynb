{
 "cells": [
  {
   "cell_type": "code",
   "execution_count": 5,
   "id": "f9c095e7-06d2-46c5-99c8-8bada2125fc3",
   "metadata": {},
   "outputs": [
    {
     "name": "stderr",
     "output_type": "stream",
     "text": [
      "WARNING (pytensor.tensor.blas): Using NumPy C-API based implementation for BLAS functions.\n"
     ]
    }
   ],
   "source": [
    "import pandas as pd\n",
    "\n",
    "# ! pip install casualimpact\n",
    "from causalimpact import CausalImpact\n",
    "\n",
    "def perform_causal_impact_analysis(data_path, pre_period, post_period, response, covariates):\n",
    "    \"\"\"\n",
    "    Perform causal impact analysis on given time series data.\n",
    "\n",
    "    :param data_path: Path to the CSV file containing the time series data\n",
    "    :param pre_period: List with start and end date of the pre-intervention period\n",
    "    :param post_period: List with start and end date of the post-intervention period\n",
    "    :param response: The name of the column to be treated as the response variable\n",
    "    :param covariates: List of column names to be used as covariates\n",
    "    :return: CausalImpact object containing the analysis results\n",
    "    \"\"\"\n",
    "    # Load data\n",
    "    data = pd.read_csv(data_path)\n",
    "    data['date'] = pd.to_datetime(data['date'])\n",
    "    data.set_index('date', inplace=True)\n",
    "\n",
    "    # Ensure the response and covariates are in the data\n",
    "    if response not in data.columns or not all(cov in data.columns for cov in covariates):\n",
    "        raise ValueError(\"Response or covariates not found in the data\")\n",
    "\n",
    "    # Prepare the data for causal impact analysis\n",
    "    ci_data = data[[response] + covariates]\n",
    "    \n",
    "    # Run causal impact analysis\n",
    "    ci = CausalImpact(ci_data, pre_period, post_period)\n",
    "\n",
    "    # Output the summary and plot results\n",
    "    print(ci.summary())\n",
    "    print(ci.plot())\n",
    "\n",
    "    return ci\n",
    "\n"
   ]
  },
  {
   "cell_type": "code",
   "execution_count": 19,
   "id": "27eb5953-ef1b-40e2-a248-5be77f893311",
   "metadata": {},
   "outputs": [
    {
     "data": {
      "text/plain": [
       "Index(['date', 'search_queries', 'chatbot_messages', 'economic_indicator',\n",
       "       'weather_condition'],\n",
       "      dtype='object')"
      ]
     },
     "execution_count": 19,
     "metadata": {},
     "output_type": "execute_result"
    }
   ],
   "source": [
    "df=pd.read_csv(\"../../data/example_searchqueries_chatbot_data.csv\")\n",
    "df[\"date\"] = pd.to_datetime(df[\"date\"])\n",
    "df.columns"
   ]
  },
  {
   "cell_type": "code",
   "execution_count": 20,
   "id": "276ba475-55a5-4ba5-99df-fa2896f48200",
   "metadata": {},
   "outputs": [
    {
     "name": "stdout",
     "output_type": "stream",
     "text": [
      "The pre-period is ['2017-01-01', '2018-02-05']\n",
      "The post-period is ['2018-02-06', '2022-12-31']\n"
     ]
    }
   ],
   "source": [
    "idx = 401\n",
    "df = df.set_index(\"date\")\n",
    "pre_period = [str(df.index.min())[:10], str(df.index[idx-1])[:10]]\n",
    "# Set post-period\n",
    "post_period = [str(df.index[idx])[:10], str(df.index.max())[:10]]\n",
    "# Print out the values\n",
    "print(f'The pre-period is {pre_period}')\n",
    "print(f'The post-period is {post_period}')"
   ]
  },
  {
   "cell_type": "code",
   "execution_count": null,
   "id": "bc679691",
   "metadata": {},
   "outputs": [],
   "source": []
  },
  {
   "cell_type": "markdown",
   "id": "d94905a4",
   "metadata": {},
   "source": [
    "```python\n",
    "impact = CausalImpact(data=df[[ \"search_queries\",\"chatbot_messages\",\"economic_indicator\",\"weather_condition\"]], pre_period=pre_period, post_period=post_period)\n",
    "# Visualization\n",
    "\n",
    "print(f\"IMPACT SUMMARY FOR idx {idx} : {df.index[idx]}\")\n",
    "print(impact.summary())\n",
    "print(impact.summary(\"report\"))\n",
    "print(f\"end for idx {idx}: {df.index[idx]}\")\n",
    "impact.plot()\n",
    "```"
   ]
  },
  {
   "cell_type": "markdown",
   "id": "e43634dc",
   "metadata": {},
   "source": []
  },
  {
   "cell_type": "code",
   "execution_count": null,
   "id": "fe73d5b3",
   "metadata": {},
   "outputs": [],
   "source": []
  }
 ],
 "metadata": {
  "kernelspec": {
   "display_name": "Python 3 (ipykernel)",
   "language": "python",
   "name": "python3"
  },
  "language_info": {
   "codemirror_mode": {
    "name": "ipython",
    "version": 3
   },
   "file_extension": ".py",
   "mimetype": "text/x-python",
   "name": "python",
   "nbconvert_exporter": "python",
   "pygments_lexer": "ipython3",
   "version": "3.9.12"
  }
 },
 "nbformat": 4,
 "nbformat_minor": 5
}
