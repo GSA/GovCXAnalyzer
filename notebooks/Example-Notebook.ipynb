{
 "cells": [
  {
   "cell_type": "code",
   "execution_count": 28,
   "metadata": {},
   "outputs": [
    {
     "ename": "NameError",
     "evalue": "name 'stopwords' is not defined",
     "output_type": "error",
     "traceback": [
      "\u001b[0;31m---------------------------------------------------------------------------\u001b[0m",
      "\u001b[0;31mNameError\u001b[0m                                 Traceback (most recent call last)",
      "Cell \u001b[0;32mIn[28], line 3\u001b[0m\n\u001b[1;32m      1\u001b[0m \u001b[39m# Standard Library Imports\u001b[39;00m\n\u001b[1;32m      2\u001b[0m \u001b[39mimport\u001b[39;00m \u001b[39mpandas\u001b[39;00m \u001b[39mas\u001b[39;00m \u001b[39mpd\u001b[39;00m\n\u001b[0;32m----> 3\u001b[0m \u001b[39mfrom\u001b[39;00m \u001b[39mgovcxanalyzer\u001b[39;00m \u001b[39mimport\u001b[39;00m text_analysis \u001b[39mas\u001b[39;00m ta\n\u001b[1;32m      4\u001b[0m \u001b[39mfrom\u001b[39;00m \u001b[39mgovcxanalyzer\u001b[39;00m \u001b[39mimport\u001b[39;00m utils\n",
      "File \u001b[0;32m~/Documents/GitHub/GovCXAnalyzer/notebooks/../govcxanalyzer/text_analysis.py:15\u001b[0m\n\u001b[1;32m     13\u001b[0m \u001b[39mimport\u001b[39;00m \u001b[39mnumpy\u001b[39;00m \u001b[39mas\u001b[39;00m \u001b[39mnp\u001b[39;00m\n\u001b[1;32m     14\u001b[0m  \u001b[39m# load stop words\u001b[39;00m\n\u001b[0;32m---> 15\u001b[0m stop_words \u001b[39m=\u001b[39m \u001b[39mset\u001b[39m(stopwords\u001b[39m.\u001b[39mwords(\u001b[39m\"\u001b[39m\u001b[39menglish\u001b[39m\u001b[39m\"\u001b[39m))\n\u001b[1;32m     16\u001b[0m \u001b[39mimport\u001b[39;00m \u001b[39men_core_web_md\u001b[39;00m\n\u001b[1;32m     17\u001b[0m \u001b[39mimport\u001b[39;00m \u001b[39mPyLDAVis\u001b[39;00m\n",
      "\u001b[0;31mNameError\u001b[0m: name 'stopwords' is not defined"
     ]
    }
   ],
   "source": [
    "# Standard Library Imports\n",
    "import pandas as pd\n",
    "from govcxanalyzer import text_analysis as ta\n",
    "from govcxanalyzer import utils\n",
    "\n",
    "\n"
   ]
  },
  {
   "cell_type": "code",
   "execution_count": 26,
   "metadata": {},
   "outputs": [
    {
     "ename": "ImportError",
     "evalue": "cannot import name 'warnings' from 'warnings' (/Users/isabelmetzger/miniconda3/envs/cxenv/lib/python3.9/warnings.py)",
     "output_type": "error",
     "traceback": [
      "\u001b[0;31m---------------------------------------------------------------------------\u001b[0m",
      "\u001b[0;31mImportError\u001b[0m                               Traceback (most recent call last)",
      "Cell \u001b[0;32mIn[26], line 7\u001b[0m\n\u001b[1;32m      3\u001b[0m     sys\u001b[39m.\u001b[39mpath\u001b[39m.\u001b[39minsert(\u001b[39m0\u001b[39m, \u001b[39m'\u001b[39m\u001b[39m..\u001b[39m\u001b[39m'\u001b[39m)\n\u001b[1;32m      6\u001b[0m \u001b[39mfrom\u001b[39;00m \u001b[39mgovcxanalyzer\u001b[39;00m \u001b[39mimport\u001b[39;00m utils\n\u001b[0;32m----> 7\u001b[0m \u001b[39mfrom\u001b[39;00m \u001b[39mgovcxanalyzer\u001b[39;00m \u001b[39mimport\u001b[39;00m data_preprocessing \u001b[39mas\u001b[39;00m dp\n",
      "File \u001b[0;32m~/Documents/GitHub/GovCXAnalyzer/notebooks/../govcxanalyzer/data_preprocessing.py:16\u001b[0m\n\u001b[1;32m     14\u001b[0m \u001b[39mfrom\u001b[39;00m \u001b[39mnltk\u001b[39;00m\u001b[39m.\u001b[39;00m\u001b[39mcorpus\u001b[39;00m \u001b[39mimport\u001b[39;00m stopwords\n\u001b[1;32m     15\u001b[0m \u001b[39mfrom\u001b[39;00m \u001b[39murllib\u001b[39;00m\u001b[39m.\u001b[39;00m\u001b[39mparse\u001b[39;00m \u001b[39mimport\u001b[39;00m urlparse, unquote, parse_qs\n\u001b[0;32m---> 16\u001b[0m \u001b[39mfrom\u001b[39;00m \u001b[39mwarnings\u001b[39;00m \u001b[39mimport\u001b[39;00m warnings\n\u001b[1;32m     18\u001b[0m \u001b[39mdef\u001b[39;00m \u001b[39mcamel_case_split\u001b[39m(s):\n\u001b[1;32m     19\u001b[0m \n\u001b[1;32m     20\u001b[0m     \u001b[39m# use map to add an underscore before each uppercase letter\u001b[39;00m\n\u001b[1;32m     21\u001b[0m     modified_string \u001b[39m=\u001b[39m \u001b[39mlist\u001b[39m(\u001b[39mmap\u001b[39m(\u001b[39mlambda\u001b[39;00m x: \u001b[39m'\u001b[39m\u001b[39m_\u001b[39m\u001b[39m'\u001b[39m \u001b[39m+\u001b[39m x \u001b[39mif\u001b[39;00m x\u001b[39m.\u001b[39misupper() \u001b[39melse\u001b[39;00m x, s))\n",
      "\u001b[0;31mImportError\u001b[0m: cannot import name 'warnings' from 'warnings' (/Users/isabelmetzger/miniconda3/envs/cxenv/lib/python3.9/warnings.py)"
     ]
    }
   ],
   "source": [
    "import sys\n",
    "if '..' not in sys.path:\n",
    "    sys.path.insert(0, '..')\n",
    "\n",
    "\n",
    "from govcxanalyzer import utils\n",
    "from govcxanalyzer import data_preprocessing as dp\n"
   ]
  },
  {
   "cell_type": "markdown",
   "metadata": {},
   "source": []
  },
  {
   "cell_type": "markdown",
   "metadata": {},
   "source": []
  },
  {
   "cell_type": "code",
   "execution_count": null,
   "metadata": {},
   "outputs": [],
   "source": [
    "# Imports\n",
    "import re\n",
    "import requests\n",
    "import pandas as pd\n",
    "import matplotlib.pyplot as plt\n",
    "import seaborn as sns\n",
    "import warnings\n",
    "from bs4 import BeautifulSoup\n",
    "from collections import defaultdict\n",
    "from tqdm.notebook import tqdm_notebook\n",
    "\n",
    "# Style and warning configurations\n",
    "plt.rcParams['figure.figsize'] = 8, 5\n",
    "plt.style.use(\"fivethirtyeight\")\n",
    "pd.options.plotting.backend = \"plotly\"\n",
    "warnings.simplefilter('ignore')\n",
    "\n",
    "# Constants\n",
    "id_cpairplot = ['UUID', ]\n",
    "cols2ignore = ['VPP Status', 'Page', 'Referrer', ]\n",
    "free_text_cols = [\n",
    "    'Anything you want to tell us about your scores above?',\n",
    "    'How could OSHA improve VPP to meet your needs better?',\n",
    "]\n",
    "cat_cols = [\n",
    "    'Please select your OSHA Region',\n",
    "    'VPP Status',\n",
    "    'Does the site fall under the OSHA PSM Standard?',\n",
    "    'NAICS Code',\n",
    "    'How many years have you been in VPP?',\n",
    "    'How often do you talk to your OSHA contact?',\n",
    "    'What do you usually talk to your OSHA contact about?',\n",
    "    'User Agent',\n",
    "    'Page', 'Referrer', 'Created At', 'IP Address', 'sector_naics'\n",
    "]\n",
    "\n",
    "\n",
    "# If you intend to run the code in the script directly (like for testing purposes), \n",
    "# you can add the following part:\n",
    "if __name__ == \"__main__\":\n",
    "    # Load data\n",
    "    osha = load_data()\n",
    "\n",
    "    # Example usage of utility functions\n",
    "    unique_counts = count_unique_values(osha, cat_cols)\n",
    "    print(unique_counts)\n",
    "\n",
    "    numeric_subset = make_numeric_subset(osha)\n",
    "    print(numeric_subset.head())"
   ]
  },
  {
   "cell_type": "code",
   "execution_count": null,
   "metadata": {},
   "outputs": [],
   "source": []
  },
  {
   "cell_type": "code",
   "execution_count": 1,
   "metadata": {},
   "outputs": [
    {
     "ename": "ModuleNotFoundError",
     "evalue": "No module named 'GovCXAnalyzer'",
     "output_type": "error",
     "traceback": [
      "\u001b[0;31m---------------------------------------------------------------------------\u001b[0m",
      "\u001b[0;31mModuleNotFoundError\u001b[0m                       Traceback (most recent call last)",
      "Cell \u001b[0;32mIn[1], line 1\u001b[0m\n\u001b[0;32m----> 1\u001b[0m \u001b[39mfrom\u001b[39;00m \u001b[39mGovCXAnalyzer\u001b[39;00m \u001b[39mimport\u001b[39;00m data_preprocessing, utils\n\u001b[1;32m      2\u001b[0m utils\u001b[39m.\u001b[39mprint_current_date()\n",
      "\u001b[0;31mModuleNotFoundError\u001b[0m: No module named 'GovCXAnalyzer'"
     ]
    }
   ],
   "source": [
    "from GovCXAnalyzer import data_preprocessing, utils\n",
    "utils.print_current_date()"
   ]
  },
  {
   "cell_type": "code",
   "execution_count": null,
   "metadata": {},
   "outputs": [],
   "source": []
  }
 ],
 "metadata": {
  "kernelspec": {
   "display_name": "base",
   "language": "python",
   "name": "python3"
  },
  "language_info": {
   "codemirror_mode": {
    "name": "ipython",
    "version": 3
   },
   "file_extension": ".py",
   "mimetype": "text/x-python",
   "name": "python",
   "nbconvert_exporter": "python",
   "pygments_lexer": "ipython3",
   "version": "3.9.17"
  },
  "orig_nbformat": 4
 },
 "nbformat": 4,
 "nbformat_minor": 2
}
