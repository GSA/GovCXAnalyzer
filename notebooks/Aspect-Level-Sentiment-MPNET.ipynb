{
 "cells": [
  {
   "cell_type": "code",
   "execution_count": 48,
   "id": "d3e076f4-b8de-446c-9288-be2801a5832c",
   "metadata": {},
   "outputs": [],
   "source": [
    "from setfit import AbsaModel\n",
    "# loading in models\n",
    "\n",
    "import warnings\n",
    "warnings.filterwarnings('ignore')\n",
    "\n",
    "model = AbsaModel.from_pretrained(\n",
    "    \"../models/setfit-absa-paraphrase-mpnet-base-v2-aspect\",\n",
    "    \"../models/setfit-absa-paraphrase-mpnet-base-v2-polarity\",\n",
    "    spacy_model = 'en_core_web_lg',\n",
    ")\n"
   ]
  },
  {
   "cell_type": "code",
   "execution_count": 49,
   "id": "2cbc14f6-579b-4f86-ab10-85bba3644b62",
   "metadata": {},
   "outputs": [],
   "source": [
    "import spacy\n",
    "web = spacy.load(\"en_core_web_lg\")\n"
   ]
  },
  {
   "cell_type": "code",
   "execution_count": 88,
   "id": "23539421-dfc0-49fb-9cc2-117f7b199e9b",
   "metadata": {},
   "outputs": [],
   "source": [
    "import datetime\n",
    "# print(datetime.datetime.now())\n",
    "## showing once sentence but you could put an entire feedback comment or email\n",
    "\n",
    "raw_text = \"The staff was helpful, but the process was hard to navigate.\"\n",
    "doc = web(raw_text)\n",
    "preds = []\n",
    "c = 0\n",
    "for sent in doc.sents:\n",
    "    c+=1\n",
    "    \n",
    "    text = sent.text\n",
    "    pred = model.predict(text)\n",
    "\n",
    "    if len(pred[0]) == 0:\n",
    "        continue\n",
    "    else:\n",
    "        preds.append({\"text_id\": f\"sent.{c}\" ,\"text\": text, \"pred\": pred})"
   ]
  },
  {
   "cell_type": "code",
   "execution_count": 89,
   "id": "15c95126-49df-46d0-86da-cd3f6a8eea62",
   "metadata": {},
   "outputs": [],
   "source": [
    "\n",
    "import pandas as pd\n",
    "df = pd.DataFrame(preds)\n",
    "# print(datetime.datetime.now())"
   ]
  },
  {
   "cell_type": "code",
   "execution_count": 90,
   "id": "75b58829-a116-4168-ba94-581eacd4e0d4",
   "metadata": {},
   "outputs": [],
   "source": [
    "pred = model.predict(raw_text.split(\"\\n\\n\")[0])"
   ]
  },
  {
   "cell_type": "code",
   "execution_count": 91,
   "id": "f1e9b53a-bdfc-4def-aa72-c1bdcbb62207",
   "metadata": {},
   "outputs": [
    {
     "data": {
      "text/plain": [
       "1"
      ]
     },
     "execution_count": 91,
     "metadata": {},
     "output_type": "execute_result"
    }
   ],
   "source": [
    "len(preds)"
   ]
  },
  {
   "cell_type": "code",
   "execution_count": 92,
   "id": "e5baa27f-9eed-4850-ad1e-c7870378cccf",
   "metadata": {},
   "outputs": [
    {
     "name": "stdout",
     "output_type": "stream",
     "text": [
      "(2, 3)\n"
     ]
    },
    {
     "data": {
      "text/html": [
       "<div>\n",
       "<style scoped>\n",
       "    .dataframe tbody tr th:only-of-type {\n",
       "        vertical-align: middle;\n",
       "    }\n",
       "\n",
       "    .dataframe tbody tr th {\n",
       "        vertical-align: top;\n",
       "    }\n",
       "\n",
       "    .dataframe thead th {\n",
       "        text-align: right;\n",
       "    }\n",
       "</style>\n",
       "<table border=\"1\" class=\"dataframe\">\n",
       "  <thead>\n",
       "    <tr style=\"text-align: right;\">\n",
       "      <th></th>\n",
       "      <th></th>\n",
       "      <th></th>\n",
       "      <th>polarity</th>\n",
       "    </tr>\n",
       "    <tr>\n",
       "      <th>text_id</th>\n",
       "      <th>text</th>\n",
       "      <th>span</th>\n",
       "      <th></th>\n",
       "    </tr>\n",
       "  </thead>\n",
       "  <tbody>\n",
       "    <tr>\n",
       "      <th rowspan=\"2\" valign=\"top\">sent.1</th>\n",
       "      <th rowspan=\"2\" valign=\"top\">The staff was helpful, but the process was hard to navigate.</th>\n",
       "      <th>staff</th>\n",
       "      <td>positive</td>\n",
       "    </tr>\n",
       "    <tr>\n",
       "      <th>process</th>\n",
       "      <td>negative</td>\n",
       "    </tr>\n",
       "  </tbody>\n",
       "</table>\n",
       "</div>"
      ],
      "text/plain": [
       "                                                                    polarity\n",
       "text_id text                                               span             \n",
       "sent.1  The staff was helpful, but the process was hard... staff    positive\n",
       "                                                           process  negative"
      ]
     },
     "execution_count": 92,
     "metadata": {},
     "output_type": "execute_result"
    }
   ],
   "source": [
    "dfe = df.explode(\"pred\").reset_index(drop=True)\n",
    "print(dfe.shape)\n",
    "dfe.drop(columns=[\"pred\"]).merge(dfe[\"pred\"].apply(pd.Series), right_index=True, left_index=True).set_index([\n",
    "    \"text_id\", \"text\", \"span\"])\n",
    "                                                                                                            "
   ]
  },
  {
   "cell_type": "code",
   "execution_count": null,
   "id": "6d29540c-8ac5-4efa-be7d-2192e06ff48b",
   "metadata": {},
   "outputs": [],
   "source": []
  },
  {
   "cell_type": "code",
   "execution_count": null,
   "id": "4322e0ab-226d-487d-85e7-2e87561871ac",
   "metadata": {},
   "outputs": [],
   "source": []
  }
 ],
 "metadata": {
  "kernelspec": {
   "display_name": "Python 3 (ipykernel)",
   "language": "python",
   "name": "python3"
  },
  "language_info": {
   "codemirror_mode": {
    "name": "ipython",
    "version": 3
   },
   "file_extension": ".py",
   "mimetype": "text/x-python",
   "name": "python",
   "nbconvert_exporter": "python",
   "pygments_lexer": "ipython3",
   "version": "3.9.19"
  }
 },
 "nbformat": 4,
 "nbformat_minor": 5
}
