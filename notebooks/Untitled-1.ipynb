{
 "cells": [
  {
   "cell_type": "code",
   "execution_count": 3,
   "metadata": {},
   "outputs": [
    {
     "ename": "NameError",
     "evalue": "name 'text_processor' is not defined",
     "output_type": "error",
     "traceback": [
      "\u001b[0;31m---------------------------------------------------------------------------\u001b[0m",
      "\u001b[0;31mNameError\u001b[0m                                 Traceback (most recent call last)",
      "Cell \u001b[0;32mIn[3], line 7\u001b[0m\n\u001b[1;32m      5\u001b[0m \u001b[39mimport\u001b[39;00m \u001b[39mrequests\u001b[39;00m\n\u001b[1;32m      6\u001b[0m \u001b[39mimport\u001b[39;00m \u001b[39mpandas\u001b[39;00m \u001b[39mas\u001b[39;00m \u001b[39mpd\u001b[39;00m\n\u001b[0;32m----> 7\u001b[0m \u001b[39mimport\u001b[39;00m \u001b[39mgovcxanalyzer\u001b[39;00m\u001b[39m.\u001b[39;00m\u001b[39mdata_preprocessing\u001b[39;00m \u001b[39mas\u001b[39;00m \u001b[39mdp\u001b[39;00m\n\u001b[1;32m      8\u001b[0m \u001b[39mfrom\u001b[39;00m \u001b[39mgovcxanalyzer\u001b[39;00m \u001b[39mimport\u001b[39;00m eda\n\u001b[1;32m      9\u001b[0m \u001b[39mfrom\u001b[39;00m \u001b[39mgovcxanalyzer\u001b[39;00m \u001b[39mimport\u001b[39;00m utils\n",
      "File \u001b[0;32m~/Documents/GitHub/GovCXAnalyzer/notebooks/../govcxanalyzer/data_preprocessing.py:172\u001b[0m\n\u001b[1;32m    140\u001b[0m     text_processor \u001b[39m=\u001b[39m TextPreProcessor(\n\u001b[1;32m    141\u001b[0m     \u001b[39m# terms that will be normalized\u001b[39;00m\n\u001b[1;32m    142\u001b[0m     normalize\u001b[39m=\u001b[39m[\u001b[39m'\u001b[39m\u001b[39murl\u001b[39m\u001b[39m'\u001b[39m, \u001b[39m'\u001b[39m\u001b[39memail\u001b[39m\u001b[39m'\u001b[39m, \u001b[39m'\u001b[39m\u001b[39mpercent\u001b[39m\u001b[39m'\u001b[39m, \u001b[39m'\u001b[39m\u001b[39mmoney\u001b[39m\u001b[39m'\u001b[39m, \u001b[39m'\u001b[39m\u001b[39mphone\u001b[39m\u001b[39m'\u001b[39m, \u001b[39m'\u001b[39m\u001b[39muser\u001b[39m\u001b[39m'\u001b[39m,\n\u001b[0;32m   (...)\u001b[0m\n\u001b[1;32m    167\u001b[0m     dicts\u001b[39m=\u001b[39m[emoticons]\n\u001b[1;32m    168\u001b[0m     )   \n\u001b[1;32m    169\u001b[0m     \u001b[39mreturn\u001b[39;00m text_processor\n\u001b[0;32m--> 172\u001b[0m \u001b[39mdef\u001b[39;00m \u001b[39mreturn_preprocess_sents\u001b[39m(sentences, text_preprocessor\u001b[39m=\u001b[39mtext_processor):\n\u001b[1;32m    173\u001b[0m     l \u001b[39m=\u001b[39m []\n\u001b[1;32m    174\u001b[0m     \u001b[39mfor\u001b[39;00m s \u001b[39min\u001b[39;00m sentences:\n",
      "\u001b[0;31mNameError\u001b[0m: name 'text_processor' is not defined"
     ]
    }
   ],
   "source": [
    "import sys\n",
    "if '..' not in sys.path:\n",
    "    sys.path.insert(0, '..')\n",
    "\n",
    "import requests\n",
    "import pandas as pd\n",
    "import govcxanalyzer.data_preprocessing as dp\n",
    "from govcxanalyzer import eda\n",
    "from govcxanalyzer import utils\n",
    "import govcxanalyzer.hypothesis_testing as ht\n",
    "import numpy as np\n",
    "\n",
    "tp = utils.get_date_timestamp()\n",
    "print(tp)"
   ]
  },
  {
   "cell_type": "code",
   "execution_count": null,
   "metadata": {},
   "outputs": [],
   "source": [
    "## going to read in "
   ]
  }
 ],
 "metadata": {
  "kernelspec": {
   "display_name": "cxenv",
   "language": "python",
   "name": "python3"
  },
  "language_info": {
   "codemirror_mode": {
    "name": "ipython",
    "version": 3
   },
   "file_extension": ".py",
   "mimetype": "text/x-python",
   "name": "python",
   "nbconvert_exporter": "python",
   "pygments_lexer": "ipython3",
   "version": "3.9.17"
  },
  "orig_nbformat": 4
 },
 "nbformat": 4,
 "nbformat_minor": 2
}
